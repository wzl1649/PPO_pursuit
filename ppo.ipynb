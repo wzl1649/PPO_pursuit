{
 "cells": [
  {
   "cell_type": "code",
   "execution_count": 62,
   "metadata": {},
   "outputs": [],
   "source": [
    "import numpy as np\n",
    "import torch\n",
    "import torch.nn as nn\n",
    "import torch.optim as optim\n",
    "from torch.distributions.categorical import Categorical\n",
    "from pettingzoo.sisl import pursuit_v4"
   ]
  },
  {
   "cell_type": "code",
   "execution_count": 91,
   "metadata": {},
   "outputs": [],
   "source": [
    "class Policy(nn.Module):\n",
    "    def __init__(self, num_actions=5):\n",
    "        super().__init__()\n",
    "\n",
    "        self.network = nn.Sequential(\n",
    "            self._layer_init(nn.Conv2d(3, 32, 3, padding=1)),\n",
    "            nn.MaxPool2d(kernel_size=2,stride=2,ceil_mode=True),\n",
    "            nn.ReLU(),\n",
    "            self._layer_init(nn.Conv2d(32, 64, 3, padding=1)),\n",
    "            nn.MaxPool2d(kernel_size=2,stride=2),\n",
    "            nn.ReLU(),\n",
    "            nn.Flatten(),\n",
    "            self._layer_init(nn.Linear(64 * 2 * 2,64)),\n",
    "            nn.ReLU(),\n",
    "            self._layer_init(nn.Linear(64,num_actions)),\n",
    "            nn.Softmax(dim=-1)\n",
    "        )\n",
    "    def _layer_init(self,layer,std = np.sqrt(2),bias = 0):\n",
    "        torch.nn.init.orthogonal_(layer.weight,std)\n",
    "        torch.nn.init.constant_(layer.bias,bias)\n",
    "        return layer\n",
    "    def forward(self,x):\n",
    "        if len(x.shape)==3:\n",
    "            x =torch.tensor(x, dtype=torch.float).permute(2, 0, 1).unsqueeze(0) # transform shape[7,7,3] to [1,3,7,7]\n",
    "        else:\n",
    "            x =torch.tensor(x, dtype=torch.float).permute(0,3,1,2)\n",
    "        return self.network(x)"
   ]
  },
  {
   "cell_type": "code",
   "execution_count": 87,
   "metadata": {},
   "outputs": [
    {
     "data": {
      "text/plain": [
       "3"
      ]
     },
     "execution_count": 87,
     "metadata": {},
     "output_type": "execute_result"
    }
   ],
   "source": [
    "len(observation.shape)"
   ]
  },
  {
   "cell_type": "code",
   "execution_count": 97,
   "metadata": {},
   "outputs": [],
   "source": [
    "\n",
    "class PPO:\n",
    "    def __init__(self,lr, gamma,clip_ratio):\n",
    "        self.policy = Policy()\n",
    "        self.optimizer = optim.Adam(self.policy.parameters(),lr=lr)\n",
    "        self.gamma =gamma\n",
    "        self.clip_ratio = clip_ratio\n",
    "\n",
    "    def update (self,rollouts):\n",
    "        obs,act,rew,logp_old,adv = rollouts\n",
    "        obs = np.array(obs)\n",
    "        returns = np.zeros_like(rew)\n",
    "        for t in reversed(range(len(rew))):\n",
    "            if t==len(rew)-1:\n",
    "                returns[t]=rew[t]\n",
    "            else:\n",
    "                returns[t]=rew[t]+self.gamma*returns[t+1]\n",
    "        values = self.policy(obs).detach().numpy()\n",
    "        adv = returns -np.sum(values,axis=1)\n",
    "        act = torch.tensor(act).long()\n",
    "        logp_old=torch.tensor(logp_old).float()\n",
    "        pi_old = self.policy(obs).gather(1,act.unsqueeze(-1)).squeeze(-1)\n",
    "        ratio = torch.exp(torch.log(pi_old))\n",
    "        surr1 = ratio*torch.from_numpy(adv).float()\n",
    "        surr2 = torch.clamp(ratio,1-self.clip_ratio,1+self.clip_ratio)*torch.from_numpy(adv).float()\n",
    "        loss = -torch.min(surr1,surr2).mean()\n",
    "\n",
    "        self.optimizer.zero_grad()\n",
    "        loss.backward()\n",
    "        self.optimizer.step()\n"
   ]
  },
  {
   "cell_type": "code",
   "execution_count": 64,
   "metadata": {},
   "outputs": [],
   "source": [
    "agent = PPO(lr =0.01,gamma=0.01,clip_ratio=0.01)"
   ]
  },
  {
   "cell_type": "code",
   "execution_count": 105,
   "metadata": {},
   "outputs": [],
   "source": [
    "from collections import deque\n",
    "from tqdm import tqdm\n",
    "def train(env,epochs,steps_per_epoch,batch_size,lr,gamma,clip_ratio):\n",
    "    ppo = PPO(lr=lr,gamma = gamma,clip_ratio=clip_ratio)\n",
    "    ep_reward = deque(maxlen=10)\n",
    "    for epoch in range(epochs):\n",
    "        obs_buf,act_buf,rew_buf,logp_buf = [],[],[],[]\n",
    "        for _ in tqdm(range(steps_per_epoch)):\n",
    "            env.reset(seed=42)\n",
    "            obs,_,_,_,_ = env.last()\n",
    "            ep_reward.append(0)\n",
    "            for t in range(batch_size):\n",
    "                probs = ppo.policy(obs)\n",
    "                m = Categorical(probs)\n",
    "                act = m.sample()\n",
    "                logp = m.log_prob(act)\n",
    "                obs_buf.append(obs)\n",
    "                act_buf.append(act)\n",
    "                rew_buf.append(0)\n",
    "                logp_buf.append(logp)\n",
    "                env.step(act.item())\n",
    "                obs,rew,done,_,_= env.last()\n",
    "                ep_reward[-1]+=rew\n",
    "                rew_buf[-1]+=rew\n",
    "                if done:\n",
    "                    break\n",
    "            ppo.update((obs_buf,act_buf,rew_buf,logp_buf,np.zeros_like(rew_buf)))\n",
    "        print(\"Epoch: {}, Avg Reward: {:.2f}\".format(epoch,np.mean(ep_reward)))"
   ]
  },
  {
   "cell_type": "code",
   "execution_count": 66,
   "metadata": {},
   "outputs": [
    {
     "data": {
      "text/plain": [
       "tensor([[0.3394, 0.1336, 0.1356, 0.2565, 0.1350]], grad_fn=<SoftmaxBackward0>)"
      ]
     },
     "execution_count": 66,
     "metadata": {},
     "output_type": "execute_result"
    }
   ],
   "source": [
    "policy(observation)"
   ]
  },
  {
   "cell_type": "code",
   "execution_count": 101,
   "metadata": {},
   "outputs": [],
   "source": [
    "n_evaders =2\n",
    "n_pursuers = 1\n",
    "n_catch =1\n",
    "max_cycles = 200\n",
    "env = pursuit_v4.env(n_evaders = n_evaders, n_pursuers = n_pursuers,max_cycles =max_cycles,n_catch=n_catch)\n",
    "env.reset(seed=42)\n"
   ]
  },
  {
   "cell_type": "code",
   "execution_count": 102,
   "metadata": {},
   "outputs": [
    {
     "data": {
      "text/plain": [
       "(7, 7, 3)"
      ]
     },
     "execution_count": 102,
     "metadata": {},
     "output_type": "execute_result"
    }
   ],
   "source": [
    "observation.shape"
   ]
  },
  {
   "cell_type": "code",
   "execution_count": 107,
   "metadata": {},
   "outputs": [
    {
     "ename": "KeyboardInterrupt",
     "evalue": "",
     "output_type": "error",
     "traceback": [
      "\u001b[0;31m---------------------------------------------------------------------------\u001b[0m",
      "\u001b[0;31mKeyboardInterrupt\u001b[0m                         Traceback (most recent call last)",
      "\u001b[1;32m/home/zelin/ppo_pursuit/ppo.ipynb Cell 10\u001b[0m line \u001b[0;36m1\n\u001b[0;32m----> <a href='vscode-notebook-cell://wsl%2Bubuntu-22.04/home/zelin/ppo_pursuit/ppo.ipynb#X12sdnNjb2RlLXJlbW90ZQ%3D%3D?line=0'>1</a>\u001b[0m train(env,epochs\u001b[39m=\u001b[39m\u001b[39m10\u001b[39m,steps_per_epoch\u001b[39m=\u001b[39mmax_cycles\u001b[39m/\u001b[39m\u001b[39m/\u001b[39m\u001b[39m10\u001b[39m,batch_size\u001b[39m=\u001b[39m\u001b[39m128\u001b[39m,lr\u001b[39m=\u001b[39m\u001b[39m0.2\u001b[39m,gamma\u001b[39m=\u001b[39m\u001b[39m0.99\u001b[39m,clip_ratio\u001b[39m=\u001b[39m\u001b[39m0.2\u001b[39m)\n",
      "\u001b[1;32m/home/zelin/ppo_pursuit/ppo.ipynb Cell 10\u001b[0m line \u001b[0;36m1\n\u001b[0;32m----> <a href='vscode-notebook-cell://wsl%2Bubuntu-22.04/home/zelin/ppo_pursuit/ppo.ipynb#X12sdnNjb2RlLXJlbW90ZQ%3D%3D?line=0'>1</a>\u001b[0m train(env,epochs\u001b[39m=\u001b[39m\u001b[39m10\u001b[39m,steps_per_epoch\u001b[39m=\u001b[39mmax_cycles\u001b[39m/\u001b[39m\u001b[39m/\u001b[39m\u001b[39m10\u001b[39m,batch_size\u001b[39m=\u001b[39m\u001b[39m128\u001b[39m,lr\u001b[39m=\u001b[39m\u001b[39m0.2\u001b[39m,gamma\u001b[39m=\u001b[39m\u001b[39m0.99\u001b[39m,clip_ratio\u001b[39m=\u001b[39m\u001b[39m0.2\u001b[39m)\n",
      "File \u001b[0;32m_pydevd_bundle/pydevd_cython.pyx:1457\u001b[0m, in \u001b[0;36m_pydevd_bundle.pydevd_cython.SafeCallWrapper.__call__\u001b[0;34m()\u001b[0m\n",
      "File \u001b[0;32m_pydevd_bundle/pydevd_cython.pyx:701\u001b[0m, in \u001b[0;36m_pydevd_bundle.pydevd_cython.PyDBFrame.trace_dispatch\u001b[0;34m()\u001b[0m\n",
      "File \u001b[0;32m_pydevd_bundle/pydevd_cython.pyx:1152\u001b[0m, in \u001b[0;36m_pydevd_bundle.pydevd_cython.PyDBFrame.trace_dispatch\u001b[0;34m()\u001b[0m\n",
      "File \u001b[0;32m_pydevd_bundle/pydevd_cython.pyx:1135\u001b[0m, in \u001b[0;36m_pydevd_bundle.pydevd_cython.PyDBFrame.trace_dispatch\u001b[0;34m()\u001b[0m\n",
      "File \u001b[0;32m_pydevd_bundle/pydevd_cython.pyx:312\u001b[0m, in \u001b[0;36m_pydevd_bundle.pydevd_cython.PyDBFrame.do_wait_suspend\u001b[0;34m()\u001b[0m\n",
      "File \u001b[0;32m~/anaconda3/envs/mpc_main/lib/python3.10/site-packages/debugpy/_vendored/pydevd/pydevd.py:2070\u001b[0m, in \u001b[0;36mPyDB.do_wait_suspend\u001b[0;34m(self, thread, frame, event, arg, exception_type)\u001b[0m\n\u001b[1;32m   2067\u001b[0m             from_this_thread\u001b[39m.\u001b[39mappend(frame_custom_thread_id)\n\u001b[1;32m   2069\u001b[0m     \u001b[39mwith\u001b[39;00m \u001b[39mself\u001b[39m\u001b[39m.\u001b[39m_threads_suspended_single_notification\u001b[39m.\u001b[39mnotify_thread_suspended(thread_id, thread, stop_reason):\n\u001b[0;32m-> 2070\u001b[0m         keep_suspended \u001b[39m=\u001b[39m \u001b[39mself\u001b[39;49m\u001b[39m.\u001b[39;49m_do_wait_suspend(thread, frame, event, arg, suspend_type, from_this_thread, frames_tracker)\n\u001b[1;32m   2072\u001b[0m frames_list \u001b[39m=\u001b[39m \u001b[39mNone\u001b[39;00m\n\u001b[1;32m   2074\u001b[0m \u001b[39mif\u001b[39;00m keep_suspended:\n\u001b[1;32m   2075\u001b[0m     \u001b[39m# This means that we should pause again after a set next statement.\u001b[39;00m\n",
      "File \u001b[0;32m~/anaconda3/envs/mpc_main/lib/python3.10/site-packages/debugpy/_vendored/pydevd/pydevd.py:2106\u001b[0m, in \u001b[0;36mPyDB._do_wait_suspend\u001b[0;34m(self, thread, frame, event, arg, suspend_type, from_this_thread, frames_tracker)\u001b[0m\n\u001b[1;32m   2103\u001b[0m         \u001b[39mself\u001b[39m\u001b[39m.\u001b[39m_call_input_hook()\n\u001b[1;32m   2105\u001b[0m     \u001b[39mself\u001b[39m\u001b[39m.\u001b[39mprocess_internal_commands()\n\u001b[0;32m-> 2106\u001b[0m     time\u001b[39m.\u001b[39;49msleep(\u001b[39m0.01\u001b[39;49m)\n\u001b[1;32m   2108\u001b[0m \u001b[39mself\u001b[39m\u001b[39m.\u001b[39mcancel_async_evaluation(get_current_thread_id(thread), \u001b[39mstr\u001b[39m(\u001b[39mid\u001b[39m(frame)))\n\u001b[1;32m   2110\u001b[0m \u001b[39m# process any stepping instructions\u001b[39;00m\n",
      "\u001b[0;31mKeyboardInterrupt\u001b[0m: "
     ]
    }
   ],
   "source": [
    "train(env,epochs=10,steps_per_epoch=max_cycles//10,batch_size=128,lr=0.2,gamma=0.99,clip_ratio=0.2)"
   ]
  },
  {
   "cell_type": "code",
   "execution_count": 14,
   "metadata": {},
   "outputs": [
    {
     "name": "stderr",
     "output_type": "stream",
     "text": [
      "/home/zelin/anaconda3/envs/mpc_main/lib/python3.10/site-packages/pygame/sysfont.py:223: UserWarning: 'fc-list' is missing, system fonts cannot be loaded on your platform\n",
      "  warnings.warn(\n"
     ]
    },
    {
     "name": "stdout",
     "output_type": "stream",
     "text": [
      "201\n"
     ]
    }
   ],
   "source": [
    "cnt = 0\n",
    "for agent in env.agent_iter():\n",
    "    observation, reward, termination, truncation, info = env.last()\n",
    "    cnt+=1\n",
    "    if termination or truncation:\n",
    "        action = None\n",
    "    else:\n",
    "        # this is where you would insert your policy\n",
    "        action = env.action_space(agent).sample()\n",
    "    env.step(action)\n",
    "env.close()\n",
    "print(cnt)"
   ]
  },
  {
   "cell_type": "code",
   "execution_count": 17,
   "metadata": {},
   "outputs": [
    {
     "ename": "AttributeError",
     "evalue": "'str' object has no attribute 'policy'",
     "output_type": "error",
     "traceback": [
      "\u001b[0;31m---------------------------------------------------------------------------\u001b[0m",
      "\u001b[0;31mAttributeError\u001b[0m                            Traceback (most recent call last)",
      "\u001b[1;32m/home/zelin/ppo_pursuit/ppo.ipynb Cell 11\u001b[0m line \u001b[0;36m1\n\u001b[0;32m----> <a href='vscode-notebook-cell://wsl%2Bubuntu-22.04/home/zelin/ppo_pursuit/ppo.ipynb#X14sdnNjb2RlLXJlbW90ZQ%3D%3D?line=0'>1</a>\u001b[0m agent\u001b[39m.\u001b[39;49mpolicy(observation)\n",
      "\u001b[0;31mAttributeError\u001b[0m: 'str' object has no attribute 'policy'"
     ]
    }
   ],
   "source": [
    "agent.policy(observation)"
   ]
  },
  {
   "cell_type": "code",
   "execution_count": 6,
   "metadata": {},
   "outputs": [],
   "source": [
    "#device=torch.device('cuda')\n",
    "device= torch.device('cpu')"
   ]
  },
  {
   "cell_type": "code",
   "execution_count": 10,
   "metadata": {},
   "outputs": [
    {
     "data": {
      "text/plain": [
       "tensor([0.0066], device='cuda:0')"
      ]
     },
     "execution_count": 10,
     "metadata": {},
     "output_type": "execute_result"
    }
   ],
   "source": [
    "a = torch.rand(1)\n",
    "a.to(device)"
   ]
  },
  {
   "cell_type": "code",
   "execution_count": 20,
   "metadata": {},
   "outputs": [],
   "source": [
    "agent1 = Agent().to(device)\n",
    "optimizer = optim.Adam(params = agent1.parameters(), lr=0.001,eps=1e-5)"
   ]
  }
 ],
 "metadata": {
  "kernelspec": {
   "display_name": "mpc_main",
   "language": "python",
   "name": "python3"
  },
  "language_info": {
   "codemirror_mode": {
    "name": "ipython",
    "version": 3
   },
   "file_extension": ".py",
   "mimetype": "text/x-python",
   "name": "python",
   "nbconvert_exporter": "python",
   "pygments_lexer": "ipython3",
   "version": "3.10.13"
  }
 },
 "nbformat": 4,
 "nbformat_minor": 2
}
