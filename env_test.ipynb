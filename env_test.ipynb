{
 "cells": [
  {
   "cell_type": "code",
   "execution_count": 1,
   "metadata": {},
   "outputs": [
    {
     "name": "stdout",
     "output_type": "stream",
     "text": [
      "402\n"
     ]
    }
   ],
   "source": [
    "from pettingzoo.sisl import pursuit_v4\n",
    "\n",
    "env = pursuit_v4.env(n_evaders = 2, n_pursuers = 2,max_cycles =200)\n",
    "env.reset(seed=42)\n",
    "cnt = 0\n",
    "for agent in env.agent_iter():\n",
    "    observation, reward, termination, truncation, info = env.last()\n",
    "    cnt+=1\n",
    "    if termination or truncation:\n",
    "        action = None\n",
    "    else:\n",
    "        # this is where you would insert your policy\n",
    "        action = env.action_space(agent).sample()\n",
    "\n",
    "    env.step(action)\n",
    "env.close()\n",
    "print(cnt)"
   ]
  },
  {
   "cell_type": "code",
   "execution_count": 18,
   "metadata": {},
   "outputs": [],
   "source": [
    "import PPOAC\n",
    "net = PPOAC.ActorCritic()\n"
   ]
  },
  {
   "cell_type": "code",
   "execution_count": 19,
   "metadata": {},
   "outputs": [],
   "source": [
    "n_evaders =2\n",
    "n_pursuers = 1\n",
    "n_catch =1\n",
    "max_cycles = 200\n",
    "env = pursuit_v4.env(n_evaders = n_evaders, n_pursuers = n_pursuers,max_cycles =max_cycles,n_catch=n_catch)\n",
    "env.reset(seed=42)"
   ]
  },
  {
   "cell_type": "code",
   "execution_count": 42,
   "metadata": {},
   "outputs": [
    {
     "ename": "ImportError",
     "evalue": "cannot import name 'PPO' from 'PPOAC' (/home/jackyansongli/zelin/PPO_pursuit/PPOAC.py)",
     "output_type": "error",
     "traceback": [
      "\u001b[0;31m---------------------------------------------------------------------------\u001b[0m",
      "\u001b[0;31mImportError\u001b[0m                               Traceback (most recent call last)",
      "\u001b[1;32m/home/jackyansongli/zelin/PPO_pursuit/env_test.ipynb Cell 4\u001b[0m line \u001b[0;36m2\n\u001b[1;32m      <a href='vscode-notebook-cell://ssh-remote%2Bdesk_arch/home/jackyansongli/zelin/PPO_pursuit/env_test.ipynb#X15sdnNjb2RlLXJlbW90ZQ%3D%3D?line=0'>1</a>\u001b[0m \u001b[39mfrom\u001b[39;00m \u001b[39mPPOAC\u001b[39;00m \u001b[39mimport\u001b[39;00m ActorCritic\n\u001b[0;32m----> <a href='vscode-notebook-cell://ssh-remote%2Bdesk_arch/home/jackyansongli/zelin/PPO_pursuit/env_test.ipynb#X15sdnNjb2RlLXJlbW90ZQ%3D%3D?line=1'>2</a>\u001b[0m \u001b[39mfrom\u001b[39;00m \u001b[39mPPOAC\u001b[39;00m \u001b[39mimport\u001b[39;00m PPO\n",
      "\u001b[0;31mImportError\u001b[0m: cannot import name 'PPO' from 'PPOAC' (/home/jackyansongli/zelin/PPO_pursuit/PPOAC.py)"
     ]
    }
   ],
   "source": [
    "from PPOAC import ActorCritic\n",
    "from PPOAC import PPO"
   ]
  },
  {
   "cell_type": "code",
   "execution_count": 44,
   "metadata": {},
   "outputs": [
    {
     "ename": "ImportError",
     "evalue": "cannot import name 'PPO' from 'PPOAC' (/home/jackyansongli/zelin/PPO_pursuit/PPOAC.py)",
     "output_type": "error",
     "traceback": [
      "\u001b[0;31m---------------------------------------------------------------------------\u001b[0m",
      "\u001b[0;31mImportError\u001b[0m                               Traceback (most recent call last)",
      "\u001b[1;32m/home/jackyansongli/zelin/PPO_pursuit/env_test.ipynb Cell 5\u001b[0m line \u001b[0;36m1\n\u001b[0;32m----> <a href='vscode-notebook-cell://ssh-remote%2Bdesk_arch/home/jackyansongli/zelin/PPO_pursuit/env_test.ipynb#X16sdnNjb2RlLXJlbW90ZQ%3D%3D?line=0'>1</a>\u001b[0m \u001b[39mfrom\u001b[39;00m \u001b[39mPPOAC\u001b[39;00m \u001b[39mimport\u001b[39;00m PPO\n",
      "\u001b[0;31mImportError\u001b[0m: cannot import name 'PPO' from 'PPOAC' (/home/jackyansongli/zelin/PPO_pursuit/PPOAC.py)"
     ]
    }
   ],
   "source": [
    "from PPOAC import PPO"
   ]
  },
  {
   "cell_type": "code",
   "execution_count": 29,
   "metadata": {},
   "outputs": [
    {
     "ename": "ImportError",
     "evalue": "cannot import name 'train' from 'PPOAC' (/home/jackyansongli/zelin/PPO_pursuit/PPOAC.py)",
     "output_type": "error",
     "traceback": [
      "\u001b[0;31m---------------------------------------------------------------------------\u001b[0m",
      "\u001b[0;31mImportError\u001b[0m                               Traceback (most recent call last)",
      "\u001b[1;32m/home/jackyansongli/zelin/PPO_pursuit/env_test.ipynb Cell 4\u001b[0m line \u001b[0;36m1\n\u001b[0;32m----> <a href='vscode-notebook-cell://ssh-remote%2Bdesk_arch/home/jackyansongli/zelin/PPO_pursuit/env_test.ipynb#X14sdnNjb2RlLXJlbW90ZQ%3D%3D?line=0'>1</a>\u001b[0m \u001b[39mfrom\u001b[39;00m \u001b[39mPPOAC\u001b[39;00m \u001b[39mimport\u001b[39;00m train\n\u001b[1;32m      <a href='vscode-notebook-cell://ssh-remote%2Bdesk_arch/home/jackyansongli/zelin/PPO_pursuit/env_test.ipynb#X14sdnNjb2RlLXJlbW90ZQ%3D%3D?line=1'>2</a>\u001b[0m PPOAC\u001b[39m.\u001b[39mtrain(env,epochs\u001b[39m=\u001b[39m\u001b[39m5\u001b[39m,steps_per_epoch\u001b[39m=\u001b[39mmax_cycles\u001b[39m/\u001b[39m\u001b[39m/\u001b[39m\u001b[39m10\u001b[39m,batch_size\u001b[39m=\u001b[39m\u001b[39m128\u001b[39m,lr\u001b[39m=\u001b[39m\u001b[39m0.2\u001b[39m,gamma\u001b[39m=\u001b[39m\u001b[39m0.99\u001b[39m,clip_ratio\u001b[39m=\u001b[39m\u001b[39m0.2\u001b[39m)\n",
      "\u001b[0;31mImportError\u001b[0m: cannot import name 'train' from 'PPOAC' (/home/jackyansongli/zelin/PPO_pursuit/PPOAC.py)"
     ]
    }
   ],
   "source": [
    "from PPOAC import train\n",
    "PPOAC.train(env,epochs=5,steps_per_epoch=max_cycles//10,batch_size=128,lr=0.2,gamma=0.99,clip_ratio=0.2)"
   ]
  },
  {
   "cell_type": "code",
   "execution_count": 25,
   "metadata": {},
   "outputs": [
    {
     "data": {
      "text/plain": [
       "(tensor([[0.1997, 0.1997, 0.1998, 0.2007, 0.2001]], grad_fn=<SoftmaxBackward0>),\n",
       " tensor([[-0.0164]], grad_fn=<AddmmBackward0>))"
      ]
     },
     "execution_count": 25,
     "metadata": {},
     "output_type": "execute_result"
    }
   ],
   "source": [
    "net(observation)"
   ]
  },
  {
   "cell_type": "code",
   "execution_count": 26,
   "metadata": {},
   "outputs": [
    {
     "data": {
      "text/plain": [
       "True"
      ]
     },
     "execution_count": 26,
     "metadata": {},
     "output_type": "execute_result"
    }
   ],
   "source": [
    "import torch\n",
    "torch.cuda.is_available()\n"
   ]
  },
  {
   "cell_type": "code",
   "execution_count": 2,
   "metadata": {},
   "outputs": [],
   "source": [
    "import time\n",
    "device = torch.device('cuda:0')\n"
   ]
  },
  {
   "cell_type": "code",
   "execution_count": 54,
   "metadata": {},
   "outputs": [
    {
     "name": "stdout",
     "output_type": "stream",
     "text": [
      "1.7416317462921143\n"
     ]
    }
   ],
   "source": [
    "start = time.time()\n",
    "for i in range(1,10):\n",
    "    a = torch.randn(5000,5000)\n",
    "    a = torch.mul(a,a)\n",
    "end = time.time()-start\n",
    "print(end)"
   ]
  },
  {
   "cell_type": "code",
   "execution_count": 56,
   "metadata": {},
   "outputs": [
    {
     "name": "stdout",
     "output_type": "stream",
     "text": [
      "3.1080949306488037\n"
     ]
    }
   ],
   "source": [
    "start = time.time()\n",
    "for i in range(1,10):\n",
    "    a = torch.randn(5000,5000).to(device)\n",
    "    a = torch.mul(a,a)\n",
    "end = time.time()-start\n",
    "print(end)"
   ]
  },
  {
   "cell_type": "code",
   "execution_count": 6,
   "metadata": {},
   "outputs": [
    {
     "name": "stdout",
     "output_type": "stream",
     "text": [
      "0.21864819526672363\n",
      "0.02411794662475586\n",
      "0.0358729362487793\n",
      "0.04889845848083496\n",
      "0.05848217010498047\n",
      "0.07626008987426758\n",
      "0.09323930740356445\n",
      "0.09559392929077148\n",
      "0.16037249565124512\n"
     ]
    }
   ],
   "source": [
    "for i in range(1,10):\n",
    "    start = time.time()\n",
    "    a = torch.rand(i*100,100,100)\n",
    "    a.to(device)\n",
    "    a = torch.mul(a,a)\n",
    "    end = time.time()-start\n",
    "    print(end)"
   ]
  },
  {
   "cell_type": "code",
   "execution_count": 31,
   "metadata": {},
   "outputs": [
    {
     "name": "stdout",
     "output_type": "stream",
     "text": [
      "0.03643465042114258\n"
     ]
    }
   ],
   "source": [
    "import torch\n",
    "import time\n",
    "tensor = torch.randn(2,2)\n",
    "l_trans = torch.nn.Linear(2,3)\n",
    "t1 = time.time()\n",
    "for _ in range(1000):\n",
    "    tensor = torch.randn(2,2)\n",
    "    l_trans(tensor)\n",
    "t2 = time.time()\n",
    "print(t2-t1)"
   ]
  },
  {
   "cell_type": "code",
   "execution_count": 42,
   "metadata": {},
   "outputs": [
    {
     "name": "stdout",
     "output_type": "stream",
     "text": [
      "0.17491793632507324\n"
     ]
    }
   ],
   "source": [
    "import torch\n",
    "import time\n",
    "tensor = torch.randn(2,2).to(device)\n",
    "l_trans = torch.nn.Linear(2,3).to(device)\n",
    "t1 = time.time()\n",
    "for _ in range(1000):\n",
    "    torch.cuda.synchronize()\n",
    "    l_trans(tensor)\n",
    "t2 = time.time()\n",
    "print(t2-t1)"
   ]
  }
 ],
 "metadata": {
  "kernelspec": {
   "display_name": "Python 3",
   "language": "python",
   "name": "python3"
  },
  "language_info": {
   "codemirror_mode": {
    "name": "ipython",
    "version": 3
   },
   "file_extension": ".py",
   "mimetype": "text/x-python",
   "name": "python",
   "nbconvert_exporter": "python",
   "pygments_lexer": "ipython3",
   "version": "3.10.13"
  }
 },
 "nbformat": 4,
 "nbformat_minor": 2
}
